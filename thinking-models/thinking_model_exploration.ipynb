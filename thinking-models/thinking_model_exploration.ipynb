{
  "cells": [
    {
      "cell_type": "markdown",
      "source": [
        "# Thinking model mech interp exploration"
      ],
      "metadata": {
        "id": "KSdFBFqtqCht"
      }
    },
    {
      "cell_type": "code",
      "execution_count": null,
      "metadata": {
        "id": "GeDAZVEq9fLg"
      },
      "outputs": [],
      "source": [
        "# Configs\n",
        "try:\n",
        "    import google.colab\n",
        "    IN_COLAB = True\n",
        "    print(\"Running as a Colab notebook\")\n",
        "    !pip install -q transformers\n",
        "    !pip install -q datasets\n",
        "    !pip install -q huggingface_hub\n",
        "    !pip install -q sae-lens\n",
        "    !pip install -q transformer-lens\n",
        "except:\n",
        "    IN_COLAB = False\n",
        "    print(\"Not running as a Colab notebook. Make sure to have required packages installed\")"
      ]
    },
    {
      "cell_type": "code",
      "execution_count": null,
      "metadata": {
        "collapsed": true,
        "id": "iKATrmnc9fLn"
      },
      "outputs": [],
      "source": [
        "import sys\n",
        "import torch\n",
        "import numpy as np\n",
        "import matplotlib.pyplot as plt\n",
        "\n",
        "from transformers import AutoModelForCausalLM, AutoTokenizer\n",
        "from transformers import pipeline # Pipeline needed to create text-generations\n",
        "from datasets import load_dataset\n",
        "from huggingface_hub import hf_hub_download, notebook_login\n",
        "\n",
        "from sae_lens import SAE\n",
        "\n",
        "import joblib # To offload data or models to disk while not using them\n",
        "\n",
        "import gc # Garbage collection. E.g. use `gc.collect()`\n",
        "\n",
        "print(\"CUDA available:\", torch.cuda.is_available())\n",
        "\n",
        "notebook_login() # Login (Llama 3 8B requires licence agreement access)"
      ]
    },
    {
      "cell_type": "markdown",
      "source": [
        "## Setups"
      ],
      "metadata": {
        "id": "fBYRe6W-p217"
      }
    },
    {
      "cell_type": "code",
      "execution_count": 3,
      "metadata": {
        "id": "TtFbOH0q9fLq"
      },
      "outputs": [],
      "source": [
        "# Nb requires Hugging Face login\n",
        "def load_llama_3_8B_model():\n",
        "    model_name = \"meta-llama/Llama-3.1-8B\"\n",
        "    tokenizer = AutoTokenizer.from_pretrained(model_name)\n",
        "    model = AutoModelForCausalLM.from_pretrained(\n",
        "        model_name,\n",
        "        torch_dtype=torch.float16,\n",
        "        device_map=\"auto\"\n",
        "    )\n",
        "    return tokenizer, model\n",
        "\n",
        "def load_r1_8B_model():\n",
        "    model_name = \"deepseek-ai/DeepSeek-R1-Distill-Llama-8B\"\n",
        "    tokenizer = AutoTokenizer.from_pretrained(model_name)\n",
        "    model = AutoModelForCausalLM.from_pretrained(\n",
        "        model_name,\n",
        "        torch_dtype=torch.float16,\n",
        "        device_map=\"auto\"\n",
        "    )\n",
        "    return tokenizer, model\n",
        "\n",
        "def load_gsm8k_dataset():\n",
        "    dataset_name = \"openai/gsm8k\"\n",
        "    dataset = load_dataset(dataset_name)\n",
        "    return dataset\n",
        "\n",
        "def load_mmlu_dataset(config_name=\"elementary_mathematics\", dataset_size=None):\n",
        "    dataset_name = \"cais/mmlu\"\n",
        "    dataset = load_dataset(dataset_name, config_name)\n",
        "    return dataset\n",
        "\n",
        "# Download Llama Scope SAEs for model Llama-3.1-8B\n",
        "def load_llama_scope_sae(layer_idx, layer_type, sae_dim, device=\"cpu\"):\n",
        "    if not (0 <= layer_idx <= 31 and isinstance(layer_idx, int)):\n",
        "        raise ValueError(\"Invalid layer index. Must be an integer between 0 and 31.\")\n",
        "    if layer_type not in (\"a\", \"m\", \"r\"):\n",
        "        raise ValueError(\"Invalid SAE layer type. layer_type must be 'a', 'm', or 'r'.\")\n",
        "    if sae_dim not in (8, 32):\n",
        "        raise ValueError(\"Invalid SAE dimension. sae_dim must be 8 or 32.\")\n",
        "    release = \"llama_scope_lx{}_{}x\".format(layer_type, sae_dim)\n",
        "    sae_id = \"l{}{}_{}x\".format(layer_idx, layer_type, sae_dim)\n",
        "    sae = SAE.from_pretrained(release, sae_id, device=device)[0]\n",
        "    return sae\n",
        "\n",
        "# Downloads Llama Scopre SAEs for model DeepSeek-R1-Distill-Llama-8B\n",
        "def load_sae_llama_scope_r1_distill(layer_idx, device=\"cpu\"):\n",
        "    if not (0 <= layer_idx <= 31 and isinstance(layer_idx, int)):\n",
        "        raise ValueError(\"Invalid layer index. Must be an integer between 0 and 31.\")\n",
        "    release = \"llama_scope_r1_distill\"\n",
        "    sae_id = \"l{}r_800m_slimpajama\".format(layer_idx)\n",
        "    sae = SAE.from_pretrained(release, sae_id, device=\"cpu\")[0]\n",
        "    return sae"
      ]
    },
    {
      "cell_type": "code",
      "source": [
        "# sae = load_llama_scope_sae(0, \"m\", 8)"
      ],
      "metadata": {
        "id": "ipHEtNAtVOvd"
      },
      "execution_count": 85,
      "outputs": []
    },
    {
      "cell_type": "code",
      "source": [
        "# mmlu_dataset = load_mmlu_dataset()"
      ],
      "metadata": {
        "id": "FMt5nSxWLXY3"
      },
      "execution_count": 38,
      "outputs": []
    },
    {
      "cell_type": "code",
      "source": [
        "llama_tokenizer, llama_model = load_llama_3_8B_model()"
      ],
      "metadata": {
        "id": "lnx6n1t8lgOZ"
      },
      "execution_count": null,
      "outputs": []
    },
    {
      "cell_type": "code",
      "source": [
        "print(llama_model)"
      ],
      "metadata": {
        "id": "S_M1L8OTrMtX"
      },
      "execution_count": null,
      "outputs": []
    },
    {
      "cell_type": "code",
      "source": [
        "print(llama_model.base_model.layers[15].mlp)"
      ],
      "metadata": {
        "id": "sOCt0BYcrPrY"
      },
      "execution_count": null,
      "outputs": []
    },
    {
      "cell_type": "code",
      "source": [
        "# Example text generation\n",
        "input_text = \"Consider the equation 3x - 1 = 2. What is x? Answer: x = \"\n",
        "input_ids = llama_tokenizer(input_text, return_tensors=\"pt\").to(llama_model.device)\n",
        "output = llama_model.generate(**input_ids, max_new_tokens=16)"
      ],
      "metadata": {
        "id": "unPXebajIRiT"
      },
      "execution_count": null,
      "outputs": []
    },
    {
      "cell_type": "code",
      "source": [
        "llama_tokenizer.decode(output[0])"
      ],
      "metadata": {
        "id": "b666SALzaTbq"
      },
      "execution_count": null,
      "outputs": []
    },
    {
      "cell_type": "markdown",
      "source": [
        "## Demonstration capturing activations and using SAEs\n",
        "Using Llama 3.1 8B base model"
      ],
      "metadata": {
        "id": "VdFY7p-iqN9c"
      }
    },
    {
      "cell_type": "code",
      "source": [
        "# Demo of how to register hook and run the model with it (and remove hook at the end)\n",
        "\n",
        "model = llama_model\n",
        "tokenizer = llama_tokenizer\n",
        "\n",
        "# Example\n",
        "input_text = \"Consider the equation 3x - 1 = 2. What is x? Answer: x = \"\n",
        "input_ids = llama_tokenizer(input_text, return_tensors=\"pt\").to(llama_model.device)\n",
        "\n",
        "# Dictionary to capture activations\n",
        "activations = {}\n",
        "\n",
        "# Hook function to capture activations\n",
        "def get_activation(name):\n",
        "    def hook(module, input, output):\n",
        "        if isinstance(output, tuple):\n",
        "            act = output[0]\n",
        "        else:\n",
        "            act = output\n",
        "        activations[name] = act.detach().cpu()  # transfer to CPU immediately\n",
        "    return hook\n",
        "\n",
        "# Register hook on the target layer\n",
        "target_layer = model.base_model.layers[15].mlp\n",
        "hook_handle = target_layer.register_forward_hook(get_activation(\"layer15_mlp\"))\n",
        "\n",
        "# Run inference\n",
        "with torch.no_grad():\n",
        "    output = model.generate(**input_ids, max_new_tokens=48)\n",
        "\n",
        "print(\"Output:\")\n",
        "print(tokenizer.decode(output[0]))\n",
        "\n",
        "hook_handle.remove()"
      ],
      "metadata": {
        "id": "7qcz1exU6W8r"
      },
      "execution_count": null,
      "outputs": []
    },
    {
      "cell_type": "code",
      "source": [
        "# Retrieve activations from CPU\n",
        "layer_activation = activations.get(\"layer15_mlp\")\n",
        "if layer_activation is None:\n",
        "    raise RuntimeError(\"Failed to capture activation from the target layer.\")"
      ],
      "metadata": {
        "id": "HjCOVDQUZOLf"
      },
      "execution_count": 50,
      "outputs": []
    },
    {
      "cell_type": "code",
      "source": [
        "layer_activation.shape"
      ],
      "metadata": {
        "id": "21mtQBzCicrS"
      },
      "execution_count": null,
      "outputs": []
    },
    {
      "cell_type": "code",
      "source": [
        "layer_activation"
      ],
      "metadata": {
        "id": "KJmGao2Rhreg"
      },
      "execution_count": null,
      "outputs": []
    },
    {
      "cell_type": "code",
      "source": [
        "plt.plot(layer_activation.flatten().numpy(), \".\")"
      ],
      "metadata": {
        "id": "3Mkve5_ChzvQ"
      },
      "execution_count": null,
      "outputs": []
    },
    {
      "cell_type": "code",
      "source": [
        "sae = load_llama_scope_sae(15, \"m\", 8)"
      ],
      "metadata": {
        "id": "LE1Jfcaol5zH"
      },
      "execution_count": null,
      "outputs": []
    },
    {
      "cell_type": "code",
      "source": [
        "sparse_representation = sae(layer_activation)"
      ],
      "metadata": {
        "id": "p0KbV52yiJr4"
      },
      "execution_count": 75,
      "outputs": []
    },
    {
      "cell_type": "code",
      "source": [
        "# Layer 15 SAE representation value counts\n",
        "plt.hist(sparse_representation.flatten().data.type(torch.float32), bins=100);"
      ],
      "metadata": {
        "id": "nCl6SlhviZN7",
        "outputId": "d4c3f69d-b215-4108-d6b7-22c900724437",
        "colab": {
          "base_uri": "https://localhost:8080/",
          "height": 432
        }
      },
      "execution_count": 83,
      "outputs": [
        {
          "output_type": "display_data",
          "data": {
            "text/plain": [
              "<Figure size 640x480 with 1 Axes>"
            ],
            "image/png": "[encoded data removed]"
          },
          "metadata": {}
        }
      ]
    },
    {
      "cell_type": "markdown",
      "source": [
        "## MMLU exploration\n",
        "Let's use the `elementary_mathematics` as default"
      ],
      "metadata": {
        "id": "p97aB48tqmYB"
      }
    },
    {
      "cell_type": "code",
      "source": [
        "mmlu_dataset = load_mmlu_dataset(config_name=\"elementary_mathematics\")\n",
        "print(mmlu_dataset)"
      ],
      "metadata": {
        "id": "w5sceunkrDzd"
      },
      "execution_count": null,
      "outputs": []
    },
    {
      "cell_type": "code",
      "source": [
        "def mmlu_data_prompt(dataset, example_idx, dataset_split):\n",
        "    if not (dataset_split in [\"test\", \"validation\", \"dev\"]):\n",
        "        raise ValueError(\"Invalid dataset split. Must be 'test', 'validation', or 'dev'.\")\n",
        "\n",
        "    example = dataset[dataset_split]\n",
        "    question = example[\"question\"][example_idx]\n",
        "    subject = example[\"subject\"][example_idx]\n",
        "    choices = example[\"choices\"][example_idx]\n",
        "    answer = example[\"answer\"][example_idx]\n",
        "\n",
        "    prompt = f\"Subject: {subject}\\n\\n\"\n",
        "    prompt += f\"Question: {question}\\n\\n\"\n",
        "    prompt += \"Choices:\\n\"\n",
        "\n",
        "    letters = \"ABCD\"\n",
        "    for i, choice in enumerate(choices):\n",
        "        prompt += f\"{letters[i]}. {choice}\\n\"\n",
        "\n",
        "    # TODO room for reasoning. i.e. <think> <\\think> block and final answer\n",
        "    # prompt += \"\\nExplanations (finish by writing Answer: <your answer>)\"\n",
        "\n",
        "    # prompt += \"\\nAnswer:\"\n",
        "\n",
        "    prompt += \"\\nLet's solve this problem step by step:\\n\"\n",
        "\n",
        "\n",
        "    return prompt"
      ],
      "metadata": {
        "id": "mHdQbPvMrxGT"
      },
      "execution_count": 5,
      "outputs": []
    },
    {
      "cell_type": "code",
      "source": [
        "prompt_demo_exmaple = mmlu_data_prompt(mmlu_dataset, 0, \"test\")\n",
        "print(prompt_demo_exmaple)"
      ],
      "metadata": {
        "id": "NXO6zLKHwODc"
      },
      "execution_count": null,
      "outputs": []
    },
    {
      "cell_type": "markdown",
      "source": [
        "E.g. using the Llama 3.1 8B base model"
      ],
      "metadata": {
        "id": "McWnViiG1NbG"
      }
    },
    {
      "cell_type": "code",
      "source": [
        "input_text = mmlu_data_prompt(mmlu_dataset, 0, \"test\")\n",
        "input_ids = llama_tokenizer(input_text, return_tensors=\"pt\").to(llama_model.device)\n",
        "output = llama_model.generate(**input_ids, max_new_tokens=32)\n",
        "output_text = llama_tokenizer.decode(output[0])\n",
        "print(output_text)"
      ],
      "metadata": {
        "id": "G-dmqBwBxkQ0"
      },
      "execution_count": null,
      "outputs": []
    },
    {
      "cell_type": "markdown",
      "source": [
        "Let's try instead the R1 (8B distilled) reasoning model"
      ],
      "metadata": {
        "id": "6WvaVRr-1WUE"
      }
    },
    {
      "cell_type": "code",
      "source": [
        "# Delete Llama model from GPU\n",
        "try:\n",
        "    del model\n",
        "    del tokenizer\n",
        "    del llama_model\n",
        "    del llama_tokenizer\n",
        "    torch.cuda.empty_cache()\n",
        "except:\n",
        "    pass"
      ],
      "metadata": {
        "id": "t546DgVu27hI"
      },
      "execution_count": null,
      "outputs": []
    },
    {
      "cell_type": "code",
      "source": [
        "tokenizer, model = load_r1_8B_model() # Loads to GPU as default"
      ],
      "metadata": {
        "id": "-8PMl0t71JTw"
      },
      "execution_count": null,
      "outputs": []
    },
    {
      "cell_type": "code",
      "source": [
        "input_text = mmlu_data_prompt(mmlu_dataset, 0, \"test\")\n",
        "input_ids = tokenizer(input_text, return_tensors=\"pt\").to(model.device)\n",
        "output = model.generate(**input_ids, max_new_tokens=128)\n",
        "output_text = tokenizer.decode(output[0])\n",
        "print(output_text)"
      ],
      "metadata": {
        "id": "HNlIOnQa3jDm",
        "outputId": "9156775f-2439-449a-b9bd-0b381c758d8c",
        "colab": {
          "base_uri": "https://localhost:8080/"
        }
      },
      "execution_count": 8,
      "outputs": [
        {
          "output_type": "stream",
          "name": "stderr",
          "text": [
            "Setting `pad_token_id` to `eos_token_id`:128001 for open-end generation.\n"
          ]
        },
        {
          "output_type": "stream",
          "name": "stdout",
          "text": [
            "<｜begin▁of▁sentence｜>Subject: elementary_mathematics\n",
            "\n",
            "Question: What is the value of p in 24 = 2p?\n",
            "\n",
            "Choices:\n",
            "A. p = 4\n",
            "B. p = 8\n",
            "C. p = 12\n",
            "D. p = 24\n",
            "\n",
            "Let's solve this problem step by step:\n",
            "1. We have the equation 24 = 2p.\n",
            "2. To find the value of p, we need to solve for p.\n",
            "3. We can do this by dividing both sides of the equation by 2.\n",
            "4. So, p = 24 / 2.\n",
            "5. Calculating that gives p = 12.\n",
            "6. Therefore, the correct answer is C. p = 12.\n",
            "\n",
            "But wait, let me double-check. If p is 12, then 2 times 12 is indeed 24. So, yes, that makes sense.\n",
            "\n",
            "Alternatively, thinking about it in another way: if I have 24 and I want to find out what number multiplied by 2 gives me 24, that number must be 12. So, p is 12.\n",
            "\n",
            "I don't see any mistakes in this reasoning. It seems straightforward. So, the answer should definitely be C.\n",
            "</think>\n",
            "\n",
            "**Question:** What is the value of \\( p \\) in \\( 24 = 2p \\)?\n",
            "\n",
            "**Choices:**\n",
            "A. \\( p = 4 \\)\n",
            "B. \\( p = 8 \\)\n",
            "C. \\( p = 12 \\)\n",
            "D. \\( p = 24 \\)\n",
            "\n",
            "**Solution:**\n",
            "\n",
            "To find the value of \\( p \\) in the equation \\( 24 = 2p \\), follow these steps:\n",
            "\n",
            "1. **Start with the equation:**\n",
            "   \\[\n",
            "   24 = 2p\n",
            "   \\]\n",
            "   \n",
            "2. **To solve for \\( p \\), divide both sides of the equation by 2:**\n",
            "   \\[\n",
            "   \\frac{24}{2} = \\frac{2p}{2}\n",
            "   \\]\n",
            "   \n",
            "3. **Simplify both sides:**\n",
            "   \\[\n",
            "   12 = p\n",
            "   \\]\n",
            "   \n",
            "4. **Therefore, the value of \\( p \\) is 12.**\n",
            "\n",
            "**Verification:**\n",
            "- If \\( p = 12 \\), then \\( 2p = 2 \\times 12 = 24 \\), which matches the original equation.\n",
            "\n",
            "**Answer:** **C. \\( p = 12 \\)**<｜end▁of▁sentence｜>\n"
          ]
        }
      ]
    },
    {
      "cell_type": "code",
      "source": [],
      "metadata": {
        "id": "Lx7o3y7G7RDc"
      },
      "execution_count": null,
      "outputs": []
    },
    {
      "cell_type": "markdown",
      "source": [
        "## Cleen-up"
      ],
      "metadata": {
        "id": "axuiwVFKrERL"
      }
    },
    {
      "cell_type": "code",
      "source": [
        "# # Free GPU memory\n",
        "# del model  # remove the model instance\n",
        "# torch.cuda.empty_cache()  # clear cached memory\n",
        "# # gc.collect() # Necessary?"
      ],
      "metadata": {
        "id": "EN7utrDyZgRR"
      },
      "execution_count": 36,
      "outputs": []
    }
  ],
  "metadata": {
    "kernelspec": {
      "display_name": "Python 3",
      "name": "python3"
    },
    "language_info": {
      "codemirror_mode": {
        "name": "ipython",
        "version": 3
      },
      "file_extension": ".py",
      "mimetype": "text/x-python",
      "name": "python",
      "nbconvert_exporter": "python",
      "pygments_lexer": "ipython3",
      "version": "3.12.2"
    },
    "colab": {
      "provenance": [],
      "gpuType": "T4"
    },
    "accelerator": "GPU"
  },
  "nbformat": 4,
  "nbformat_minor": 0
}